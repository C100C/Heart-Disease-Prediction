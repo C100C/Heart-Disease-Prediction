{
 "cells": [
  {
   "cell_type": "markdown",
   "metadata": {
    "deletable": false,
    "editable": false
   },
   "source": [
    "# Project Two: Logistic Regression and Random Forests\n",
    "\n",
    "For Project Two, you have been asked to create different models analyzing a Heart Disease data set. Before beginning work on the project, be sure to read through the Project Two Guidelines and Rubric to understand what you need to do and how you will be graded on this assignment. Be sure to carefully review the Project Two Summary Report template, which contains all of the questions that you will need to answer about the regression analyses you are performing.\n",
    "\n",
    "For this project, you will be writing all the scripts yourself. You may reference the textbook and your previous work on the problem sets to help you write the scripts.\n",
    "\n",
    "\n",
    "### Scenario\n",
    "\n",
    "You are a data analyst researching risk factors for heart disease at a university hospital. You have access to a large set of historical data that you can use to analyze patterns between different health indicators (e.g. fasting blood sugar, maximum heart rate, etc.) and the presence of heart disease. You have been asked to create different logistic regression models that predict whether or not a person is at risk for heart disease. A model like this could eventually be used to evaluate medical records and look for risks that might not be obvious to human doctors. You have also been asked to create a classification random forest model to predict the risk of heart disease and a regression random forest model to predict the maximum heart rate achieved.\n",
    "\n",
    "There are several variables in this data set, but you will be working with the following important variables: \n",
    "\n",
    "| <div style=\"text-align: left\"> Variable </div>  |   <div style=\"text-align: left\"> What does it represent? </div> |\n",
    "| -- | --  |\n",
    "| <div style=\"text-align: left\"> age </div> | <div style=\"text-align: left\"> The person's age in years </div> |\n",
    "| <div style=\"text-align: left\"> sex </div> | <div style=\"text-align: left\"> The person's sex (1 = male, 0 = female) </div> |\n",
    "| <div style=\"text-align: left\"> cp </div> | <div style=\"text-align: left\"> The type of chest pain experienced (0=no pain, 1=typical angina, 2=atypical angina, 3=non-anginal pain) </div> |\n",
    "| <div style=\"text-align: left\"> trestbps </div> | <div style=\"text-align: left\"> The person's resting blood pressure </div> |\n",
    "| <div style=\"text-align: left\"> chol </div> | <div style=\"text-align: left\"> The person's cholesterol measurement in mg/dl </div> |\n",
    "| <div style=\"text-align: left\"> fbs </div> | <div style=\"text-align: left\"> The person's fasting blood sugar is greater than 120 mg/dl (1 = true, 0 = false) </div> |\n",
    "| <div style=\"text-align: left\"> restecg </div> | <div style=\"text-align: left\"> Resting electrocardiographic measurement (0=normal, 1=having ST-T wave abnormality, 2=showing probable or definite left ventricular hypertrophy by Estes' criteria) </div> |\n",
    "| <div style=\"text-align: left\"> thalach </div> | <div style=\"text-align: left\"> The person's maximum heart rate achieved </div> |\n",
    "| <div style=\"text-align: left\"> exang </div> | <div style=\"text-align: left\"> Exercise-induced angina (1=yes, 0=no) </div> |\n",
    "| <div style=\"text-align: left\"> oldpeak </div> | <div style=\"text-align: left\"> ST depression induced by exercise relative to rest ('ST' relates to positions on the ECG plot) </div> |\n",
    "| <div style=\"text-align: left\"> slope </div> | <div style=\"text-align: left\"> The slope of the peak exercise ST segment (1=upsloping, 2=flat, 3=downsloping) </div> |\n",
    "| <div style=\"text-align: left\"> ca </div> | <div style=\"text-align: left\"> The number of major vessels (0-3) </div> |\n",
    "| <div style=\"text-align: left\"> target </div> | <div style=\"text-align: left\"> Heart disease (0=no, 1=yes) </div> |\n",
    "\n",
    "**---------------------------------------------------------------------------------------------------------------------------**"
   ]
  },
  {
   "cell_type": "markdown",
   "metadata": {
    "deletable": false,
    "editable": false
   },
   "source": [
    "## Install Libraries\n",
    "In the following code block, you will install appropriate libraries to use in this project. \n",
    "\n",
    "Click the **Run** button on the toolbar to run this code.\n",
    "<br><br>\n",
    "<font color='red'>**Note:** The code section below will first install three R packages: \"ResourceSelection\", \"pROC\" and \"rpart.plot\". Please do not move to the next step until the packages are fully installed. This will take some time. Once the installation is complete, this step will print first 6 rows of the data set.</font>"
   ]
  },
  {
   "cell_type": "code",
   "execution_count": 12,
   "metadata": {
    "deletable": false,
    "editable": false
   },
   "outputs": [
    {
     "name": "stdout",
     "output_type": "stream",
     "text": [
      "[1] \"This step will first install three R packages. Please wait until the packages are fully installed.\"\n",
      "[1] \"Once the installation is complete, this step will print 'Installation complete!'\"\n"
     ]
    },
    {
     "name": "stderr",
     "output_type": "stream",
     "text": [
      "Installing package into '/home/codio/R/x86_64-pc-linux-gnu-library/3.4'\n",
      "(as 'lib' is unspecified)\n",
      "Installing package into '/home/codio/R/x86_64-pc-linux-gnu-library/3.4'\n",
      "(as 'lib' is unspecified)\n",
      "Installing package into '/home/codio/R/x86_64-pc-linux-gnu-library/3.4'\n",
      "(as 'lib' is unspecified)\n"
     ]
    },
    {
     "name": "stdout",
     "output_type": "stream",
     "text": [
      "[1] \"Installation complete!\"\n"
     ]
    }
   ],
   "source": [
    "print(\"This step will first install three R packages. Please wait until the packages are fully installed.\")\n",
    "print(\"Once the installation is complete, this step will print 'Installation complete!'\")\n",
    "\n",
    "install.packages(\"ResourceSelection\")\n",
    "install.packages(\"pROC\")\n",
    "install.packages(\"rpart.plot\")\n",
    "\n",
    "print(\"Installation complete!\")"
   ]
  },
  {
   "cell_type": "markdown",
   "metadata": {
    "deletable": false,
    "editable": false
   },
   "source": [
    "## Prepare Your Data Set\n",
    "\n",
    "In the following code block, you have been given the R code to prepare your data set.\n",
    "\n",
    "Click the **Run** button on the toolbar to run this code."
   ]
  },
  {
   "cell_type": "code",
   "execution_count": 28,
   "metadata": {
    "deletable": false,
    "editable": false
   },
   "outputs": [
    {
     "data": {
      "text/html": [
       "<table>\n",
       "<caption>A data.frame: 10 × 14</caption>\n",
       "<thead>\n",
       "\t<tr><th scope=col>age</th><th scope=col>sex</th><th scope=col>cp</th><th scope=col>trestbps</th><th scope=col>chol</th><th scope=col>fbs</th><th scope=col>restecg</th><th scope=col>thalach</th><th scope=col>exang</th><th scope=col>oldpeak</th><th scope=col>slope</th><th scope=col>ca</th><th scope=col>thal</th><th scope=col>target</th></tr>\n",
       "\t<tr><th scope=col>&lt;int&gt;</th><th scope=col>&lt;fct&gt;</th><th scope=col>&lt;fct&gt;</th><th scope=col>&lt;int&gt;</th><th scope=col>&lt;int&gt;</th><th scope=col>&lt;fct&gt;</th><th scope=col>&lt;fct&gt;</th><th scope=col>&lt;int&gt;</th><th scope=col>&lt;fct&gt;</th><th scope=col>&lt;dbl&gt;</th><th scope=col>&lt;fct&gt;</th><th scope=col>&lt;fct&gt;</th><th scope=col>&lt;fct&gt;</th><th scope=col>&lt;fct&gt;</th></tr>\n",
       "</thead>\n",
       "<tbody>\n",
       "\t<tr><td>62</td><td>1</td><td>2</td><td>130</td><td>231</td><td>0</td><td>1</td><td>146</td><td>0</td><td>1.8</td><td>1</td><td>3</td><td>3</td><td>1</td></tr>\n",
       "\t<tr><td>58</td><td>0</td><td>0</td><td>130</td><td>197</td><td>0</td><td>1</td><td>131</td><td>0</td><td>0.6</td><td>1</td><td>0</td><td>2</td><td>1</td></tr>\n",
       "\t<tr><td>60</td><td>0</td><td>3</td><td>150</td><td>240</td><td>0</td><td>1</td><td>171</td><td>0</td><td>0.9</td><td>2</td><td>0</td><td>2</td><td>1</td></tr>\n",
       "\t<tr><td>63</td><td>1</td><td>0</td><td>140</td><td>187</td><td>0</td><td>0</td><td>144</td><td>1</td><td>4.0</td><td>2</td><td>2</td><td>3</td><td>0</td></tr>\n",
       "\t<tr><td>62</td><td>1</td><td>0</td><td>120</td><td>267</td><td>0</td><td>1</td><td> 99</td><td>1</td><td>1.8</td><td>1</td><td>2</td><td>3</td><td>0</td></tr>\n",
       "\t<tr><td>63</td><td>0</td><td>2</td><td>135</td><td>252</td><td>0</td><td>0</td><td>172</td><td>0</td><td>0.0</td><td>2</td><td>0</td><td>2</td><td>1</td></tr>\n",
       "\t<tr><td>43</td><td>1</td><td>0</td><td>150</td><td>247</td><td>0</td><td>1</td><td>171</td><td>0</td><td>1.5</td><td>2</td><td>0</td><td>2</td><td>1</td></tr>\n",
       "\t<tr><td>42</td><td>1</td><td>2</td><td>120</td><td>240</td><td>1</td><td>1</td><td>194</td><td>0</td><td>0.8</td><td>0</td><td>0</td><td>3</td><td>1</td></tr>\n",
       "\t<tr><td>59</td><td>1</td><td>2</td><td>126</td><td>218</td><td>1</td><td>1</td><td>134</td><td>0</td><td>2.2</td><td>1</td><td>1</td><td>1</td><td>0</td></tr>\n",
       "\t<tr><td>48</td><td>1</td><td>0</td><td>124</td><td>274</td><td>0</td><td>0</td><td>166</td><td>0</td><td>0.5</td><td>1</td><td>0</td><td>3</td><td>0</td></tr>\n",
       "</tbody>\n",
       "</table>\n"
      ],
      "text/latex": [
       "A data.frame: 10 × 14\n",
       "\\begin{tabular}{r|llllllllllllll}\n",
       " age & sex & cp & trestbps & chol & fbs & restecg & thalach & exang & oldpeak & slope & ca & thal & target\\\\\n",
       " <int> & <fct> & <fct> & <int> & <int> & <fct> & <fct> & <int> & <fct> & <dbl> & <fct> & <fct> & <fct> & <fct>\\\\\n",
       "\\hline\n",
       "\t 62 & 1 & 2 & 130 & 231 & 0 & 1 & 146 & 0 & 1.8 & 1 & 3 & 3 & 1\\\\\n",
       "\t 58 & 0 & 0 & 130 & 197 & 0 & 1 & 131 & 0 & 0.6 & 1 & 0 & 2 & 1\\\\\n",
       "\t 60 & 0 & 3 & 150 & 240 & 0 & 1 & 171 & 0 & 0.9 & 2 & 0 & 2 & 1\\\\\n",
       "\t 63 & 1 & 0 & 140 & 187 & 0 & 0 & 144 & 1 & 4.0 & 2 & 2 & 3 & 0\\\\\n",
       "\t 62 & 1 & 0 & 120 & 267 & 0 & 1 &  99 & 1 & 1.8 & 1 & 2 & 3 & 0\\\\\n",
       "\t 63 & 0 & 2 & 135 & 252 & 0 & 0 & 172 & 0 & 0.0 & 2 & 0 & 2 & 1\\\\\n",
       "\t 43 & 1 & 0 & 150 & 247 & 0 & 1 & 171 & 0 & 1.5 & 2 & 0 & 2 & 1\\\\\n",
       "\t 42 & 1 & 2 & 120 & 240 & 1 & 1 & 194 & 0 & 0.8 & 0 & 0 & 3 & 1\\\\\n",
       "\t 59 & 1 & 2 & 126 & 218 & 1 & 1 & 134 & 0 & 2.2 & 1 & 1 & 1 & 0\\\\\n",
       "\t 48 & 1 & 0 & 124 & 274 & 0 & 0 & 166 & 0 & 0.5 & 1 & 0 & 3 & 0\\\\\n",
       "\\end{tabular}\n"
      ],
      "text/markdown": [
       "\n",
       "A data.frame: 10 × 14\n",
       "\n",
       "| age &lt;int&gt; | sex &lt;fct&gt; | cp &lt;fct&gt; | trestbps &lt;int&gt; | chol &lt;int&gt; | fbs &lt;fct&gt; | restecg &lt;fct&gt; | thalach &lt;int&gt; | exang &lt;fct&gt; | oldpeak &lt;dbl&gt; | slope &lt;fct&gt; | ca &lt;fct&gt; | thal &lt;fct&gt; | target &lt;fct&gt; |\n",
       "|---|---|---|---|---|---|---|---|---|---|---|---|---|---|\n",
       "| 62 | 1 | 2 | 130 | 231 | 0 | 1 | 146 | 0 | 1.8 | 1 | 3 | 3 | 1 |\n",
       "| 58 | 0 | 0 | 130 | 197 | 0 | 1 | 131 | 0 | 0.6 | 1 | 0 | 2 | 1 |\n",
       "| 60 | 0 | 3 | 150 | 240 | 0 | 1 | 171 | 0 | 0.9 | 2 | 0 | 2 | 1 |\n",
       "| 63 | 1 | 0 | 140 | 187 | 0 | 0 | 144 | 1 | 4.0 | 2 | 2 | 3 | 0 |\n",
       "| 62 | 1 | 0 | 120 | 267 | 0 | 1 |  99 | 1 | 1.8 | 1 | 2 | 3 | 0 |\n",
       "| 63 | 0 | 2 | 135 | 252 | 0 | 0 | 172 | 0 | 0.0 | 2 | 0 | 2 | 1 |\n",
       "| 43 | 1 | 0 | 150 | 247 | 0 | 1 | 171 | 0 | 1.5 | 2 | 0 | 2 | 1 |\n",
       "| 42 | 1 | 2 | 120 | 240 | 1 | 1 | 194 | 0 | 0.8 | 0 | 0 | 3 | 1 |\n",
       "| 59 | 1 | 2 | 126 | 218 | 1 | 1 | 134 | 0 | 2.2 | 1 | 1 | 1 | 0 |\n",
       "| 48 | 1 | 0 | 124 | 274 | 0 | 0 | 166 | 0 | 0.5 | 1 | 0 | 3 | 0 |\n",
       "\n"
      ],
      "text/plain": [
       "   age sex cp trestbps chol fbs restecg thalach exang oldpeak slope ca thal\n",
       "1  62  1   2  130      231  0   1       146     0     1.8     1     3  3   \n",
       "2  58  0   0  130      197  0   1       131     0     0.6     1     0  2   \n",
       "3  60  0   3  150      240  0   1       171     0     0.9     2     0  2   \n",
       "4  63  1   0  140      187  0   0       144     1     4.0     2     2  3   \n",
       "5  62  1   0  120      267  0   1        99     1     1.8     1     2  3   \n",
       "6  63  0   2  135      252  0   0       172     0     0.0     2     0  2   \n",
       "7  43  1   0  150      247  0   1       171     0     1.5     2     0  2   \n",
       "8  42  1   2  120      240  1   1       194     0     0.8     0     0  3   \n",
       "9  59  1   2  126      218  1   1       134     0     2.2     1     1  1   \n",
       "10 48  1   0  124      274  0   0       166     0     0.5     1     0  3   \n",
       "   target\n",
       "1  1     \n",
       "2  1     \n",
       "3  1     \n",
       "4  0     \n",
       "5  0     \n",
       "6  1     \n",
       "7  1     \n",
       "8  1     \n",
       "9  0     \n",
       "10 0     "
      ]
     },
     "metadata": {},
     "output_type": "display_data"
    },
    {
     "name": "stdout",
     "output_type": "stream",
     "text": [
      "[1] \"Number of variables\"\n"
     ]
    },
    {
     "data": {
      "text/html": [
       "14"
      ],
      "text/latex": [
       "14"
      ],
      "text/markdown": [
       "14"
      ],
      "text/plain": [
       "[1] 14"
      ]
     },
     "metadata": {},
     "output_type": "display_data"
    },
    {
     "name": "stdout",
     "output_type": "stream",
     "text": [
      "[1] \"Number of rows\"\n"
     ]
    },
    {
     "data": {
      "text/html": [
       "303"
      ],
      "text/latex": [
       "303"
      ],
      "text/markdown": [
       "303"
      ],
      "text/plain": [
       "[1] 303"
      ]
     },
     "metadata": {},
     "output_type": "display_data"
    }
   ],
   "source": [
    "heart_data <- read.csv(file=\"heart_disease.csv\", header=TRUE, sep=\",\")\n",
    "\n",
    "# Converting appropriate variables to factors  \n",
    "heart_data <- within(heart_data, {\n",
    "   target <- factor(target)\n",
    "   sex <- factor(sex)\n",
    "   cp <- factor(cp)\n",
    "   fbs <- factor(fbs)\n",
    "   restecg <- factor(restecg)\n",
    "   exang <- factor(exang)\n",
    "   slope <- factor(slope)\n",
    "   ca <- factor(ca)\n",
    "   thal <- factor(thal)\n",
    "})\n",
    "\n",
    "head(heart_data, 10)\n",
    "\n",
    "print(\"Number of variables\")\n",
    "ncol(heart_data)\n",
    "\n",
    "print(\"Number of rows\")\n",
    "nrow(heart_data)"
   ]
  },
  {
   "cell_type": "markdown",
   "metadata": {},
   "source": [
    " "
   ]
  },
  {
   "cell_type": "markdown",
   "metadata": {
    "deletable": false,
    "editable": false
   },
   "source": [
    "## Model #1 - First Logistic Regression Model\n",
    "\n",
    "You have been asked to create a logistic regression model for heart disease *(target)* using the variables age *(age)*, resting blood pressure *(trestbps)*, exercised induced angina (exang) and maximum heart rate achieved *(thalach)*. Before writing any code, review Section 3 of the Summary Report template to see the questions you will be answering about your logistic regression model.\n",
    "\n",
    "Run your scripts to get the outputs of your regression analysis. Then use the outputs to answer the questions in your summary report.\n",
    "\n",
    "**Note: Use the + (plus) button to add new code blocks, if needed.**"
   ]
  },
  {
   "cell_type": "code",
   "execution_count": 29,
   "metadata": {
    "scrolled": true
   },
   "outputs": [
    {
     "data": {
      "text/plain": [
       "\n",
       "Call:\n",
       "glm(formula = target ~ age + trestbps + exang + thalach, family = \"binomial\", \n",
       "    data = heart_data)\n",
       "\n",
       "Deviance Residuals: \n",
       "    Min       1Q   Median       3Q      Max  \n",
       "-2.0935  -0.7944   0.4954   0.8133   2.2343  \n",
       "\n",
       "Coefficients:\n",
       "             Estimate Std. Error z value Pr(>|z|)    \n",
       "(Intercept) -1.021121   1.784194  -0.572   0.5671    \n",
       "age         -0.017549   0.017144  -1.024   0.3060    \n",
       "trestbps    -0.014888   0.008337  -1.786   0.0741 .  \n",
       "exang1      -1.624981   0.305774  -5.314 1.07e-07 ***\n",
       "thalach      0.031095   0.007275   4.274 1.92e-05 ***\n",
       "---\n",
       "Signif. codes:  0 '***' 0.001 '**' 0.01 '*' 0.05 '.' 0.1 ' ' 1\n",
       "\n",
       "(Dispersion parameter for binomial family taken to be 1)\n",
       "\n",
       "    Null deviance: 417.64  on 302  degrees of freedom\n",
       "Residual deviance: 323.14  on 298  degrees of freedom\n",
       "AIC: 333.14\n",
       "\n",
       "Number of Fisher Scoring iterations: 4\n"
      ]
     },
     "metadata": {},
     "output_type": "display_data"
    }
   ],
   "source": [
    "logit1 <- glm(target ~ age + trestbps + exang + thalach, data = heart_data, family = \"binomial\")\n",
    "summary(logit1)"
   ]
  },
  {
   "cell_type": "code",
   "execution_count": 30,
   "metadata": {},
   "outputs": [
    {
     "name": "stdout",
     "output_type": "stream",
     "text": [
      "[1] \"GOF test\"\n"
     ]
    },
    {
     "data": {
      "text/plain": [
       "\n",
       "\tHosmer and Lemeshow goodness of fit (GOF) test\n",
       "\n",
       "data:  logit1$y, fitted(logit1)\n",
       "X-squared = 44.622, df = 48, p-value = 0.612\n"
      ]
     },
     "metadata": {},
     "output_type": "display_data"
    }
   ],
   "source": [
    "library(ResourceSelection)\n",
    "print(\"GOF test\")\n",
    "hl1 = hoslem.test(logit1$y, fitted(logit1), g=50)\n",
    "hl1"
   ]
  },
  {
   "cell_type": "code",
   "execution_count": 31,
   "metadata": {},
   "outputs": [
    {
     "name": "stdout",
     "output_type": "stream",
     "text": [
      "[1] \"Confusion Matrix\"\n"
     ]
    },
    {
     "data": {
      "text/plain": [
       "         Actual\n",
       "Predicted   0   1\n",
       "        0  89  31\n",
       "        1  49 134"
      ]
     },
     "metadata": {},
     "output_type": "display_data"
    }
   ],
   "source": [
    "print(\"Confusion Matrix\")\n",
    "predicted <- ifelse(predict(logit1, type = \"response\") >= 0.5, 1, 0)\n",
    "table(Predicted = predicted, Actual = heart_data$target)"
   ]
  },
  {
   "cell_type": "code",
   "execution_count": 32,
   "metadata": {},
   "outputs": [
    {
     "name": "stderr",
     "output_type": "stream",
     "text": [
      "Setting levels: control = 0, case = 1\n",
      "Setting direction: controls < cases\n"
     ]
    },
    {
     "name": "stdout",
     "output_type": "stream",
     "text": [
      "[1] \"Area Under the Curve (AUC)\"\n"
     ]
    },
    {
     "data": {
      "text/html": [
       "0.8007"
      ],
      "text/latex": [
       "0.8007"
      ],
      "text/markdown": [
       "0.8007"
      ],
      "text/plain": [
       "[1] 0.8007"
      ]
     },
     "metadata": {},
     "output_type": "display_data"
    },
    {
     "name": "stdout",
     "output_type": "stream",
     "text": [
      "[1] \"ROC Curve\"\n"
     ]
    },
    {
     "data": {
      "image/png": "[encoded data removed]",
      "text/plain": [
       "plot without title"
      ]
     },
     "metadata": {},
     "output_type": "display_data"
    }
   ],
   "source": [
    "library(pROC)\n",
    "labels <- heart_data$target\n",
    "predictions <- logit1$fitted.values\n",
    "roc <- roc(labels, predictions)\n",
    "\n",
    "print(\"Area Under the Curve (AUC)\")\n",
    "round(auc(roc),4)\n",
    "\n",
    "print(\"ROC Curve\")\n",
    "plot(roc, legacy.axes = TRUE)"
   ]
  },
  {
   "cell_type": "code",
   "execution_count": 33,
   "metadata": {},
   "outputs": [
    {
     "name": "stdout",
     "output_type": "stream",
     "text": [
      "[1] \"Prediction: 50 years old, blood pressure 122, has exang, and max heart rate of 140\"\n"
     ]
    },
    {
     "data": {
      "text/html": [
       "<strong>1:</strong> 0.2716"
      ],
      "text/latex": [
       "\\textbf{1:} 0.2716"
      ],
      "text/markdown": [
       "**1:** 0.2716"
      ],
      "text/plain": [
       "     1 \n",
       "0.2716 "
      ]
     },
     "metadata": {},
     "output_type": "display_data"
    },
    {
     "name": "stdout",
     "output_type": "stream",
     "text": [
      "[1] \"Prediction: 50 years old, blood presuure=130, no exang, and max heart rate of 165\"\n"
     ]
    },
    {
     "data": {
      "text/html": [
       "<strong>1:</strong> 0.7853"
      ],
      "text/latex": [
       "\\textbf{1:} 0.7853"
      ],
      "text/markdown": [
       "**1:** 0.7853"
      ],
      "text/plain": [
       "     1 \n",
       "0.7853 "
      ]
     },
     "metadata": {},
     "output_type": "display_data"
    }
   ],
   "source": [
    "print(\"Prediction: 50 years old, blood pressure 122, has exang, and max heart rate of 140\")\n",
    "new_df <- data.frame(age=50, trestbps=122, exang='1', thalach=140)\n",
    "prediction <- predict(logit1, new_df, type='response')\n",
    "round(prediction, 4)\n",
    "\n",
    "print(\"Prediction: 50 years old, blood presuure=130, no exang, and max heart rate of 165\")\n",
    "new_df <- data.frame(age=50, trestbps=130, exang='0', thalach=165)\n",
    "prediction <- predict(logit1, new_df, type='response')\n",
    "round(prediction, 4)"
   ]
  },
  {
   "cell_type": "markdown",
   "metadata": {},
   "source": [
    " "
   ]
  },
  {
   "cell_type": "markdown",
   "metadata": {
    "deletable": false,
    "editable": false
   },
   "source": [
    "## Model #2 - Second Logistic Regression Model\n",
    "\n",
    "You have been asked to create a logistic regression model for heart disease *(target)* using the variables age of the individual *(age)*, resting blood pressure (trestbps), type of chest pain *(cp)* and maximum heart rate achieved *(thalach)*. You also have to include the quadratic term for age and the interaction term between age and maximum heart rate achieved. Before writing any code, review Section 4 of the Summary Report template to see the questions you will be answering about your model.\n",
    "\n",
    "Run your scripts to get the outputs of your analysis. Then use the outputs to answer the questions in your summary report.\n",
    "\n",
    "**Note: Use the + (plus) button to add new code blocks, if needed.**"
   ]
  },
  {
   "cell_type": "code",
   "execution_count": 34,
   "metadata": {},
   "outputs": [
    {
     "data": {
      "text/plain": [
       "\n",
       "Call:\n",
       "glm(formula = target ~ age + trestbps + cp + thalach + I(age^2) + \n",
       "    age:thalach, family = \"binomial\", data = heart_data)\n",
       "\n",
       "Deviance Residuals: \n",
       "    Min       1Q   Median       3Q      Max  \n",
       "-2.6961  -0.7537   0.2925   0.7123   2.3058  \n",
       "\n",
       "Coefficients:\n",
       "              Estimate Std. Error z value Pr(>|z|)    \n",
       "(Intercept) -1.556e+01  1.054e+01  -1.476  0.13988    \n",
       "age          1.744e-01  2.669e-01   0.653  0.51357    \n",
       "trestbps    -1.958e-02  8.978e-03  -2.181  0.02916 *  \n",
       "cp1          1.913e+00  4.437e-01   4.313 1.61e-05 ***\n",
       "cp2          2.037e+00  3.473e-01   5.867 4.45e-09 ***\n",
       "cp3          1.777e+00  5.477e-01   3.245  0.00117 ** \n",
       "thalach      1.363e-01  5.119e-02   2.663  0.00775 ** \n",
       "I(age^2)     8.424e-04  1.750e-03   0.481  0.63025    \n",
       "age:thalach -1.867e-03  8.909e-04  -2.095  0.03616 *  \n",
       "---\n",
       "Signif. codes:  0 '***' 0.001 '**' 0.01 '*' 0.05 '.' 0.1 ' ' 1\n",
       "\n",
       "(Dispersion parameter for binomial family taken to be 1)\n",
       "\n",
       "    Null deviance: 417.64  on 302  degrees of freedom\n",
       "Residual deviance: 293.67  on 294  degrees of freedom\n",
       "AIC: 311.67\n",
       "\n",
       "Number of Fisher Scoring iterations: 5\n"
      ]
     },
     "metadata": {},
     "output_type": "display_data"
    }
   ],
   "source": [
    "logit2 <- glm(target ~ age + trestbps + cp + thalach + I(age^2) + age:thalach, data = heart_data, family = \"binomial\")\n",
    "summary(logit2)"
   ]
  },
  {
   "cell_type": "code",
   "execution_count": 35,
   "metadata": {},
   "outputs": [
    {
     "name": "stdout",
     "output_type": "stream",
     "text": [
      "[1] \"GOF test model 2\"\n"
     ]
    },
    {
     "data": {
      "text/plain": [
       "\n",
       "\tHosmer and Lemeshow goodness of fit (GOF) test\n",
       "\n",
       "data:  logit2$y, fitted(logit2)\n",
       "X-squared = 52, df = 48, p-value = 0.3209\n"
      ]
     },
     "metadata": {},
     "output_type": "display_data"
    }
   ],
   "source": [
    "library(ResourceSelection)\n",
    "print(\"GOF test model 2\")\n",
    "hl1 = hoslem.test(logit2$y, fitted(logit2), g=50)\n",
    "hl1"
   ]
  },
  {
   "cell_type": "code",
   "execution_count": 36,
   "metadata": {},
   "outputs": [
    {
     "name": "stdout",
     "output_type": "stream",
     "text": [
      "[1] \"Confusion Matrix model 2\"\n"
     ]
    },
    {
     "data": {
      "text/plain": [
       "         Actual\n",
       "Predicted   0   1\n",
       "        0 102  36\n",
       "        1  36 129"
      ]
     },
     "metadata": {},
     "output_type": "display_data"
    }
   ],
   "source": [
    "print(\"Confusion Matrix model 2\")\n",
    "predicted <- ifelse(predict(logit2, type = \"response\") >= 0.5, 1, 0)\n",
    "table(Predicted = predicted, Actual = heart_data$target)"
   ]
  },
  {
   "cell_type": "code",
   "execution_count": 37,
   "metadata": {},
   "outputs": [
    {
     "name": "stderr",
     "output_type": "stream",
     "text": [
      "Setting levels: control = 0, case = 1\n",
      "Setting direction: controls < cases\n"
     ]
    },
    {
     "name": "stdout",
     "output_type": "stream",
     "text": [
      "[1] \"Area Under the Curve (AUC)\"\n"
     ]
    },
    {
     "data": {
      "text/html": [
       "0.8478"
      ],
      "text/latex": [
       "0.8478"
      ],
      "text/markdown": [
       "0.8478"
      ],
      "text/plain": [
       "[1] 0.8478"
      ]
     },
     "metadata": {},
     "output_type": "display_data"
    },
    {
     "name": "stdout",
     "output_type": "stream",
     "text": [
      "[1] \"ROC Curve\"\n"
     ]
    },
    {
     "data": {
      "image/png": "[encoded data removed]",
      "text/plain": [
       "plot without title"
      ]
     },
     "metadata": {},
     "output_type": "display_data"
    }
   ],
   "source": [
    "library(pROC)\n",
    "labels <- heart_data$target\n",
    "predictions <- logit2$fitted.values\n",
    "roc <- roc(labels, predictions)\n",
    "\n",
    "print(\"Area Under the Curve (AUC)\")\n",
    "round(auc(roc),4)\n",
    "\n",
    "print(\"ROC Curve\")\n",
    "plot(roc, legacy.axes = TRUE)"
   ]
  },
  {
   "cell_type": "code",
   "execution_count": 38,
   "metadata": {},
   "outputs": [
    {
     "name": "stdout",
     "output_type": "stream",
     "text": [
      "[1] \"Prediction: 50 years old, blood pressure 115, no chest pain, max heart rate of 133\"\n"
     ]
    },
    {
     "data": {
      "text/html": [
       "<strong>1:</strong> 0.2188"
      ],
      "text/latex": [
       "\\textbf{1:} 0.2188"
      ],
      "text/markdown": [
       "**1:** 0.2188"
      ],
      "text/plain": [
       "     1 \n",
       "0.2188 "
      ]
     },
     "metadata": {},
     "output_type": "display_data"
    },
    {
     "name": "stdout",
     "output_type": "stream",
     "text": [
      "[1] \"Prediction: 50 years old, blood presuure 125, cp=1, max heart rate of 155\"\n"
     ]
    },
    {
     "data": {
      "text/html": [
       "<strong>1:</strong> 0.8007"
      ],
      "text/latex": [
       "\\textbf{1:} 0.8007"
      ],
      "text/markdown": [
       "**1:** 0.8007"
      ],
      "text/plain": [
       "     1 \n",
       "0.8007 "
      ]
     },
     "metadata": {},
     "output_type": "display_data"
    }
   ],
   "source": [
    "print(\"Prediction: 50 years old, blood pressure 115, no chest pain, max heart rate of 133\")\n",
    "new_df <- data.frame(age=50, trestbps=115, cp='0', thalach=133)\n",
    "prediction <- predict(logit2, new_df, type='response')\n",
    "round(prediction, 4)\n",
    "\n",
    "print(\"Prediction: 50 years old, blood presuure 125, cp=1, max heart rate of 155\")\n",
    "new_df <- data.frame(age=50, trestbps=125, cp='1', thalach=155)\n",
    "prediction <- predict(logit2, new_df, type='response')\n",
    "round(prediction, 4)"
   ]
  },
  {
   "cell_type": "markdown",
   "metadata": {},
   "source": [
    " "
   ]
  },
  {
   "cell_type": "markdown",
   "metadata": {
    "deletable": false,
    "editable": false
   },
   "source": [
    "## Random Forest Classification Model\n",
    "\n",
    "You have been asked to create a random forest classification model for the presence of heart disease *(target)* using the variables age *(age)*, sex *(sex)*, chest pain type *(cp)*, resting blood pressure *(trestbps)*, cholesterol measurement *(chol)*, resting electrocardiographic measurement *(restecg)*, exercise-induced angina *(exang)*, and number of major vessels *(ca)*. Before writing any code, review Section 5 of the Summary Report template to see the questions you will be answering about your model.\n",
    "\n",
    "Run your scripts to get the outputs of your regression analysis. Then use the outputs to answer the questions in your summary report.\n",
    "\n",
    "**Note: Use the + (plus) button to add new code blocks, if needed.**"
   ]
  },
  {
   "cell_type": "code",
   "execution_count": 39,
   "metadata": {},
   "outputs": [
    {
     "name": "stdout",
     "output_type": "stream",
     "text": [
      "[1] \"Total rows\"\n",
      "[1] 303\n",
      "[1] \"traning rows\"\n"
     ]
    },
    {
     "data": {
      "text/html": [
       "257"
      ],
      "text/latex": [
       "257"
      ],
      "text/markdown": [
       "257"
      ],
      "text/plain": [
       "[1] 257"
      ]
     },
     "metadata": {},
     "output_type": "display_data"
    },
    {
     "name": "stdout",
     "output_type": "stream",
     "text": [
      "[1] \"Testing rows\"\n"
     ]
    },
    {
     "data": {
      "text/html": [
       "46"
      ],
      "text/latex": [
       "46"
      ],
      "text/markdown": [
       "46"
      ],
      "text/plain": [
       "[1] 46"
      ]
     },
     "metadata": {},
     "output_type": "display_data"
    }
   ],
   "source": [
    "set.seed(6522048)\n",
    "\n",
    "sample.size = floor(0.85*nrow(heart_data))\n",
    "\n",
    "print(\"Total rows\")\n",
    "print(nrow(heart_data))\n",
    "\n",
    "print(\"traning rows\")\n",
    "train = sample(seq_len(nrow(heart_data)), size = sample.size)\n",
    "training.data = heart_data[train,]\n",
    "nrow(training.data)\n",
    "\n",
    "print(\"Testing rows\")\n",
    "testing.data <- heart_data[-train, ]\n",
    "nrow(testing.data)"
   ]
  },
  {
   "cell_type": "code",
   "execution_count": 40,
   "metadata": {
    "scrolled": true
   },
   "outputs": [
    {
     "data": {
      "image/png": "[encoded data removed]",
      "text/plain": [
       "plot without title"
      ]
     },
     "metadata": {},
     "output_type": "display_data"
    }
   ],
   "source": [
    "set.seed(6522048)\n",
    "library(randomForest)\n",
    "\n",
    "train_error_vec <- c()\n",
    "test_error_vec <- c()\n",
    "trees <- c()\n",
    "\n",
    "for (i in 1:150) {\n",
    "    trees <- c(trees, i)\n",
    "    \n",
    "    # Fit model with i trees\n",
    "    model_rf <- randomForest(\n",
    "        target ~ age + sex + cp + trestbps + chol + restecg + exang + ca, \n",
    "        data = training.data, \n",
    "        ntree = i\n",
    "    )\n",
    "    \n",
    "    # Training set predictions\n",
    "    train_pred <- predict(model_rf, training.data, type = \"class\")\n",
    "    conf_train <- table(training.data$target, train_pred)\n",
    "    train_error <- 1 - (sum(diag(conf_train)) / sum(conf_train))\n",
    "    train_error_vec <- c(train_error_vec, train_error)\n",
    "    \n",
    "    # Testing set predictions\n",
    "    test_pred <- predict(model_rf, testing.data, type = \"class\")\n",
    "    conf_test <- table(testing.data$target, test_pred)\n",
    "    test_error <- 1 - (sum(diag(conf_test)) / sum(conf_test))\n",
    "    test_error_vec <- c(test_error_vec, test_error)\n",
    "}\n",
    "\n",
    "# Plot\n",
    "plot(trees, train_error_vec, type = \"l\", ylim = c(0, 1), col = \"red\", \n",
    "     xlab = \"Number of Trees\", ylab = \"Classification Error\")\n",
    "lines(trees, test_error_vec, col = \"blue\")\n",
    "legend(\"topright\", legend = c(\"Training Set\", \"Testing Set\"), col = c(\"red\", \"blue\"), lwd = 2)\n"
   ]
  },
  {
   "cell_type": "code",
   "execution_count": 41,
   "metadata": {},
   "outputs": [
    {
     "data": {
      "text/html": [
       "51"
      ],
      "text/latex": [
       "51"
      ],
      "text/markdown": [
       "51"
      ],
      "text/plain": [
       "[1] 51"
      ]
     },
     "metadata": {},
     "output_type": "display_data"
    }
   ],
   "source": [
    "best_index <- which.min(train_error_vec)\n",
    "best_num_trees <- trees[best_index]\n",
    "best_num_trees"
   ]
  },
  {
   "cell_type": "markdown",
   "metadata": {},
   "source": [
    "### Random Forest Classification Model (51 trees)"
   ]
  },
  {
   "cell_type": "code",
   "execution_count": 64,
   "metadata": {},
   "outputs": [],
   "source": [
    "set.seed(6522048) # random forest with 51 trees\n",
    "library(randomForest)\n",
    "model_RF1 <- randomForest(target ~ age + sex + cp + trestbps + chol + restecg + exang + ca, data=training.data, ntree=51)"
   ]
  },
  {
   "cell_type": "code",
   "execution_count": 65,
   "metadata": {},
   "outputs": [
    {
     "name": "stdout",
     "output_type": "stream",
     "text": [
      "[1] \"Matrix for training set 51 trees\"\n"
     ]
    },
    {
     "data": {
      "text/plain": [
       "      Predicted\n",
       "Actual   0   1\n",
       "     0 112   2\n",
       "     1   0 128"
      ]
     },
     "metadata": {},
     "output_type": "display_data"
    },
    {
     "name": "stdout",
     "output_type": "stream",
     "text": [
      "[1] \"Matrix for testing set 51 trees\"\n"
     ]
    },
    {
     "data": {
      "text/plain": [
       "      Predicted\n",
       "Actual  0  1\n",
       "     0 15  9\n",
       "     1  8 29"
      ]
     },
     "metadata": {},
     "output_type": "display_data"
    }
   ],
   "source": [
    "# Confusion matrix for training set\n",
    "print(\"Matrix for training set 51 trees\")\n",
    "train_pred <- predict(model_RF1, training.data, type = \"class\")\n",
    "train_conf <- table(Actual = training.data$target, Predicted = train_pred)\n",
    "train_conf\n",
    "\n",
    "# Confusion matrix for testing set\n",
    "print(\"Matrix for testing set 51 trees\")\n",
    "test_pred <- predict(model_RF1, testing.data, type = \"class\")\n",
    "test_conf <- table(Actual = testing.data$target, Predicted = test_pred)\n",
    "test_conf"
   ]
  },
  {
   "cell_type": "markdown",
   "metadata": {},
   "source": [
    "### Random Forest Classification Model (51 trees and mtry=2 and limiting max nodes and nodessize)"
   ]
  },
  {
   "cell_type": "code",
   "execution_count": 44,
   "metadata": {},
   "outputs": [],
   "source": [
    "set.seed(6522048) # Random forest with 25 trees and mtry=2 and limiting max nodes and nodessize\n",
    "library(randomForest)\n",
    "model_RF1 <- randomForest(target ~ age + sex + cp + trestbps + chol + restecg + exang + ca, data=training.data, mtry=2, ntree=51, maxnodes = 10, nodesize = 5)"
   ]
  },
  {
   "cell_type": "code",
   "execution_count": 45,
   "metadata": {},
   "outputs": [
    {
     "name": "stdout",
     "output_type": "stream",
     "text": [
      "[1] \"Matrix for training set 51 trees w/ limitations\"\n"
     ]
    },
    {
     "data": {
      "text/plain": [
       "      Predicted\n",
       "Actual   0   1\n",
       "     0 100  20\n",
       "     1  10 127"
      ]
     },
     "metadata": {},
     "output_type": "display_data"
    },
    {
     "name": "stdout",
     "output_type": "stream",
     "text": [
      "[1] \"Matrix for testing set 51 trees w/ limitations\"\n"
     ]
    },
    {
     "data": {
      "text/plain": [
       "      Predicted\n",
       "Actual  0  1\n",
       "     0 11  7\n",
       "     1  8 20"
      ]
     },
     "metadata": {},
     "output_type": "display_data"
    }
   ],
   "source": [
    "# Confusion matrix for training set\n",
    "print(\"Matrix for training set 51 trees w/ limitations\")\n",
    "train_pred <- predict(model_RF1, training.data, type = \"class\")\n",
    "train_conf <- table(Actual = training.data$target, Predicted = train_pred)\n",
    "train_conf\n",
    "\n",
    "# Confusion matrix for testing set\n",
    "print(\"Matrix for testing set 51 trees w/ limitations\")\n",
    "test_pred <- predict(model_RF1, testing.data, type = \"class\")\n",
    "test_conf <- table(Actual = testing.data$target, Predicted = test_pred)\n",
    "test_conf"
   ]
  },
  {
   "cell_type": "markdown",
   "metadata": {},
   "source": [
    " "
   ]
  },
  {
   "cell_type": "markdown",
   "metadata": {
    "deletable": false,
    "editable": false
   },
   "source": [
    "## Random Forest Regression Model\n",
    "\n",
    "You have been asked to create a random forest regression model for maximum heart rate achieved using the variables age *(age)*, sex *(sex)*, chest pain type *(cp)*, resting blood pressure *(trestbps)*, cholesterol measurement *(chol)*, resting electrocardiographic measurement *(restecg)*, exercise-induced angina *(exang)*, and number of major vessels *(ca)*. Before writing any code, review Section 6 of the Summary Report template to see the questions you will be answering about your model.\n",
    "\n",
    "Run your scripts to get the outputs of your analysis. Then use the outputs to answer the questions in your summary report.\n",
    "\n",
    "**Note: Use the + (plus) button to add new code blocks, if needed.**"
   ]
  },
  {
   "cell_type": "code",
   "execution_count": 46,
   "metadata": {},
   "outputs": [
    {
     "name": "stdout",
     "output_type": "stream",
     "text": [
      "[1] \"traning rows regression forest\"\n"
     ]
    },
    {
     "data": {
      "text/html": [
       "242"
      ],
      "text/latex": [
       "242"
      ],
      "text/markdown": [
       "242"
      ],
      "text/plain": [
       "[1] 242"
      ]
     },
     "metadata": {},
     "output_type": "display_data"
    },
    {
     "name": "stdout",
     "output_type": "stream",
     "text": [
      "[1] \"Testing rows regression forest\"\n"
     ]
    },
    {
     "data": {
      "text/html": [
       "61"
      ],
      "text/latex": [
       "61"
      ],
      "text/markdown": [
       "61"
      ],
      "text/plain": [
       "[1] 61"
      ]
     },
     "metadata": {},
     "output_type": "display_data"
    }
   ],
   "source": [
    "set.seed(6522048)\n",
    "\n",
    "sample.size = floor(0.80*nrow(heart_data))\n",
    "\n",
    "print(\"traning rows regression forest\")\n",
    "train = sample(seq_len(nrow(heart_data)), size = sample.size)\n",
    "training.data = heart_data[train,]\n",
    "nrow(training.data)\n",
    "\n",
    "print(\"Testing rows regression forest\")\n",
    "testing.data <- heart_data[-train, ]\n",
    "nrow(testing.data)"
   ]
  },
  {
   "cell_type": "code",
   "execution_count": 47,
   "metadata": {},
   "outputs": [
    {
     "data": {
      "image/png": "[encoded data removed]",
      "text/plain": [
       "plot without title"
      ]
     },
     "metadata": {},
     "output_type": "display_data"
    }
   ],
   "source": [
    "set.seed(6522048)\n",
    "library(randomForest)\n",
    "\n",
    "# RMSE function\n",
    "RMSE <- function(pred, obs) {\n",
    "  sqrt(sum((pred - obs)^2) / length(pred))\n",
    "}\n",
    "\n",
    "train_rmse <- c()\n",
    "test_rmse <- c()\n",
    "trees <- c()\n",
    "\n",
    "for (i in 1:80) {\n",
    "  trees <- c(trees, i)\n",
    "  \n",
    "  # Fit regression random forest\n",
    "  model_rf <- randomForest(thalach ~ age + sex + cp + trestbps + chol + restecg + exang + ca,\n",
    "                            data = training.data,\n",
    "                            ntree = i)\n",
    "  \n",
    "  # Training RMSE\n",
    "  pred_train <- predict(model_rf, newdata = training.data)\n",
    "  rmse_train <- RMSE(pred_train, training.data$thalach)\n",
    "  train_rmse <- c(train_rmse, rmse_train)\n",
    "  \n",
    "  # Testing RMSE\n",
    "  pred_test <- predict(model_rf, newdata = testing.data)\n",
    "  rmse_test <- RMSE(pred_test, testing.data$thalach)\n",
    "  test_rmse <- c(test_rmse, rmse_test)\n",
    "}\n",
    "\n",
    "# Plot RMSE vs number of trees\n",
    "plot(trees, train_rmse, type = \"l\", ylim = c(0, 120), col = \"red\",\n",
    "     xlab = \"Number of Trees\", ylab = \"Root Mean Squared Error\")\n",
    "lines(trees, test_rmse, col = \"blue\")\n",
    "legend(\"topright\", legend = c(\"Training Set\", \"Testing Set\"), col = c(\"red\", \"blue\"), lwd = 2)\n"
   ]
  },
  {
   "cell_type": "markdown",
   "metadata": {},
   "source": [
    "### Random Forest Regression Model (20 trees)"
   ]
  },
  {
   "cell_type": "code",
   "execution_count": 48,
   "metadata": {},
   "outputs": [
    {
     "name": "stdout",
     "output_type": "stream",
     "text": [
      "[1] \"Root Mean Squared Error training set 20 trees\"\n"
     ]
    },
    {
     "data": {
      "text/html": [
       "11.6281588266415"
      ],
      "text/latex": [
       "11.6281588266415"
      ],
      "text/markdown": [
       "11.6281588266415"
      ],
      "text/plain": [
       "[1] 11.62816"
      ]
     },
     "metadata": {},
     "output_type": "display_data"
    },
    {
     "name": "stdout",
     "output_type": "stream",
     "text": [
      "[1] \"Root Mean Squared Error testing set 20 trees\"\n"
     ]
    },
    {
     "data": {
      "text/html": [
       "21.1139392413712"
      ],
      "text/latex": [
       "21.1139392413712"
      ],
      "text/markdown": [
       "21.1139392413712"
      ],
      "text/plain": [
       "[1] 21.11394"
      ]
     },
     "metadata": {},
     "output_type": "display_data"
    }
   ],
   "source": [
    "set.seed(6522048)\n",
    "library(randomForest)\n",
    "model_rf <- randomForest(thalach ~ age + sex + cp + trestbps + chol + restecg + exang + ca,\n",
    "                            data = training.data,\n",
    "                            ntree = 20)\n",
    "\n",
    "# Root mean squared error\n",
    "RMSE = function(pred, obs) {\n",
    "    return(sqrt( sum( (pred - obs)^2 )/length(pred) ) )\n",
    "}\n",
    "\n",
    "print('Root Mean Squared Error training set 20 trees')\n",
    "pred <- predict(model_rf, newdata=training.data, type='response')\n",
    "RMSE(pred, training.data$thalach)\n",
    "\n",
    "\n",
    "print('Root Mean Squared Error testing set 20 trees')\n",
    "pred <- predict(model_rf, newdata=testing.data, type='response')\n",
    "RMSE(pred, testing.data$thalach)"
   ]
  },
  {
   "cell_type": "markdown",
   "metadata": {},
   "source": [
    "### Random Forest Regression Model (20 tress and limits)"
   ]
  },
  {
   "cell_type": "code",
   "execution_count": 49,
   "metadata": {},
   "outputs": [
    {
     "name": "stdout",
     "output_type": "stream",
     "text": [
      "[1] \"Root Mean Squared Error training set 20 trees and limits\"\n"
     ]
    },
    {
     "data": {
      "text/html": [
       "16.0650243397989"
      ],
      "text/latex": [
       "16.0650243397989"
      ],
      "text/markdown": [
       "16.0650243397989"
      ],
      "text/plain": [
       "[1] 16.06502"
      ]
     },
     "metadata": {},
     "output_type": "display_data"
    },
    {
     "name": "stdout",
     "output_type": "stream",
     "text": [
      "[1] \"Root Mean Squared Error testing set 20 trees and limits\"\n"
     ]
    },
    {
     "data": {
      "text/html": [
       "19.3651515804016"
      ],
      "text/latex": [
       "19.3651515804016"
      ],
      "text/markdown": [
       "19.3651515804016"
      ],
      "text/plain": [
       "[1] 19.36515"
      ]
     },
     "metadata": {},
     "output_type": "display_data"
    }
   ],
   "source": [
    "set.seed(6522048)\n",
    "library(randomForest)\n",
    "model_rf <- randomForest(thalach ~ age + sex + cp + trestbps + chol + restecg + exang + ca,\n",
    "                            data = training.data,\n",
    "                            ntree = 20, mtry=3, maxnodes=15, nodesize=15)\n",
    "\n",
    "# Root mean squared error\n",
    "RMSE = function(pred, obs) {\n",
    "    return(sqrt( sum( (pred - obs)^2 )/length(pred) ) )\n",
    "}\n",
    "\n",
    "print('Root Mean Squared Error training set 20 trees and limits')\n",
    "pred <- predict(model_rf, newdata=training.data, type='response')\n",
    "RMSE(pred, training.data$thalach)\n",
    "\n",
    "\n",
    "print('Root Mean Squared Error testing set 20 trees and limits')\n",
    "pred <- predict(model_rf, newdata=testing.data, type='response')\n",
    "RMSE(pred, testing.data$thalach)"
   ]
  },
  {
   "cell_type": "code",
   "execution_count": 66,
   "metadata": {},
   "outputs": [
    {
     "data": {
      "text/html": [
       "149.646864686469"
      ],
      "text/latex": [
       "149.646864686469"
      ],
      "text/markdown": [
       "149.646864686469"
      ],
      "text/plain": [
       "[1] 149.6469"
      ]
     },
     "metadata": {},
     "output_type": "display_data"
    }
   ],
   "source": [
    "mean(heart_data$thalach)"
   ]
  },
  {
   "cell_type": "code",
   "execution_count": 67,
   "metadata": {},
   "outputs": [
    {
     "data": {
      "text/html": [
       "<ol class=list-inline>\n",
       "\t<li>71</li>\n",
       "\t<li>202</li>\n",
       "</ol>\n"
      ],
      "text/latex": [
       "\\begin{enumerate*}\n",
       "\\item 71\n",
       "\\item 202\n",
       "\\end{enumerate*}\n"
      ],
      "text/markdown": [
       "1. 71\n",
       "2. 202\n",
       "\n",
       "\n"
      ],
      "text/plain": [
       "[1]  71 202"
      ]
     },
     "metadata": {},
     "output_type": "display_data"
    }
   ],
   "source": [
    "range(heart_data$thalach)"
   ]
  },
  {
   "cell_type": "markdown",
   "metadata": {
    "deletable": false,
    "editable": false
   },
   "source": [
    "## End of Project Two Jupyter Notebook\n",
    "The HTML output can be downloaded by clicking **File**, then **Download as**, then **HTML**. Be sure to answer all of the questions in the Summary Report template for Project Two, and to include your completed Jupyter Notebook scripts as part of your submission."
   ]
  }
 ],
 "metadata": {
  "kernelspec": {
   "display_name": "R",
   "language": "R",
   "name": "ir"
  },
  "language_info": {
   "codemirror_mode": "r",
   "file_extension": ".r",
   "mimetype": "text/x-r-source",
   "name": "R",
   "pygments_lexer": "r",
   "version": "3.4.4"
  }
 },
 "nbformat": 4,
 "nbformat_minor": 2
}
